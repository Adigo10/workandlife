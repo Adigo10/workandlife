{
 "cells": [
  {
   "cell_type": "code",
   "execution_count": 1,
   "metadata": {},
   "outputs": [],
   "source": [
    "import pandas as pd\n",
    "import numpy as np\n",
    "import matplotlib.pyplot as plt\n",
    "%matplotlib inline"
   ]
  },
  {
   "cell_type": "code",
   "execution_count": 2,
   "metadata": {},
   "outputs": [],
   "source": [
    "dataset = pd.read_csv('cleandata/median_norma.csv')"
   ]
  },
  {
   "cell_type": "code",
   "execution_count": 3,
   "metadata": {},
   "outputs": [
    {
     "data": {
      "text/html": [
       "<div>\n",
       "<style scoped>\n",
       "    .dataframe tbody tr th:only-of-type {\n",
       "        vertical-align: middle;\n",
       "    }\n",
       "\n",
       "    .dataframe tbody tr th {\n",
       "        vertical-align: top;\n",
       "    }\n",
       "\n",
       "    .dataframe thead th {\n",
       "        text-align: right;\n",
       "    }\n",
       "</style>\n",
       "<table border=\"1\" class=\"dataframe\">\n",
       "  <thead>\n",
       "    <tr style=\"text-align: right;\">\n",
       "      <th></th>\n",
       "      <th>Gender</th>\n",
       "      <th>Company Type</th>\n",
       "      <th>WFH Setup Available</th>\n",
       "      <th>Age</th>\n",
       "      <th>Tenure</th>\n",
       "      <th>Vacations taken</th>\n",
       "      <th>Designation</th>\n",
       "      <th>Average Hours worked per day</th>\n",
       "      <th>Employee satisfaction score</th>\n",
       "      <th>Mental Fatigue Score</th>\n",
       "    </tr>\n",
       "  </thead>\n",
       "  <tbody>\n",
       "    <tr>\n",
       "      <th>0</th>\n",
       "      <td>1</td>\n",
       "      <td>0</td>\n",
       "      <td>0</td>\n",
       "      <td>52</td>\n",
       "      <td>18</td>\n",
       "      <td>8</td>\n",
       "      <td>2</td>\n",
       "      <td>3.0</td>\n",
       "      <td>3.8</td>\n",
       "      <td>0.16</td>\n",
       "    </tr>\n",
       "    <tr>\n",
       "      <th>1</th>\n",
       "      <td>0</td>\n",
       "      <td>0</td>\n",
       "      <td>1</td>\n",
       "      <td>26</td>\n",
       "      <td>12</td>\n",
       "      <td>4</td>\n",
       "      <td>1</td>\n",
       "      <td>2.0</td>\n",
       "      <td>5.0</td>\n",
       "      <td>0.36</td>\n",
       "    </tr>\n",
       "    <tr>\n",
       "      <th>2</th>\n",
       "      <td>1</td>\n",
       "      <td>1</td>\n",
       "      <td>1</td>\n",
       "      <td>63</td>\n",
       "      <td>20</td>\n",
       "      <td>4</td>\n",
       "      <td>2</td>\n",
       "      <td>4.0</td>\n",
       "      <td>5.8</td>\n",
       "      <td>0.49</td>\n",
       "    </tr>\n",
       "    <tr>\n",
       "      <th>3</th>\n",
       "      <td>0</td>\n",
       "      <td>0</td>\n",
       "      <td>1</td>\n",
       "      <td>59</td>\n",
       "      <td>20</td>\n",
       "      <td>12</td>\n",
       "      <td>1</td>\n",
       "      <td>1.0</td>\n",
       "      <td>2.6</td>\n",
       "      <td>0.20</td>\n",
       "    </tr>\n",
       "    <tr>\n",
       "      <th>4</th>\n",
       "      <td>1</td>\n",
       "      <td>0</td>\n",
       "      <td>0</td>\n",
       "      <td>63</td>\n",
       "      <td>10</td>\n",
       "      <td>9</td>\n",
       "      <td>3</td>\n",
       "      <td>7.0</td>\n",
       "      <td>6.9</td>\n",
       "      <td>0.52</td>\n",
       "    </tr>\n",
       "  </tbody>\n",
       "</table>\n",
       "</div>"
      ],
      "text/plain": [
       "   Gender  Company Type  WFH Setup Available  Age  Tenure  Vacations taken  \\\n",
       "0       1             0                    0   52      18                8   \n",
       "1       0             0                    1   26      12                4   \n",
       "2       1             1                    1   63      20                4   \n",
       "3       0             0                    1   59      20               12   \n",
       "4       1             0                    0   63      10                9   \n",
       "\n",
       "   Designation  Average Hours worked per day  Employee satisfaction score  \\\n",
       "0            2                           3.0                          3.8   \n",
       "1            1                           2.0                          5.0   \n",
       "2            2                           4.0                          5.8   \n",
       "3            1                           1.0                          2.6   \n",
       "4            3                           7.0                          6.9   \n",
       "\n",
       "   Mental Fatigue Score  \n",
       "0                  0.16  \n",
       "1                  0.36  \n",
       "2                  0.49  \n",
       "3                  0.20  \n",
       "4                  0.52  "
      ]
     },
     "execution_count": 3,
     "metadata": {},
     "output_type": "execute_result"
    }
   ],
   "source": [
    "dataset.head()"
   ]
  },
  {
   "cell_type": "code",
   "execution_count": 4,
   "metadata": {},
   "outputs": [],
   "source": [
    "y = dataset['Mental Fatigue Score']\n",
    "X = dataset.drop('Mental Fatigue Score',axis=1)"
   ]
  },
  {
   "cell_type": "code",
   "execution_count": 5,
   "metadata": {},
   "outputs": [],
   "source": [
    "from sklearn.model_selection import train_test_split\n",
    "X_train, X_test, y_train, y_test = train_test_split(X, y, test_size=0.2, random_state=0)"
   ]
  },
  {
   "cell_type": "code",
   "execution_count": 6,
   "metadata": {},
   "outputs": [
    {
     "data": {
      "text/plain": [
       "Text(0.5, 1.0, 'True Degree: 8  Estimated Degree:5')"
      ]
     },
     "execution_count": 6,
     "metadata": {},
     "output_type": "execute_result"
    },
    {
     "data": {
      "image/png": "[encoded data removed]",
      "text/plain": [
       "<Figure size 432x288 with 1 Axes>"
      ]
     },
     "metadata": {
      "needs_background": "light"
     },
     "output_type": "display_data"
    }
   ],
   "source": [
    "import numpy as np\n",
    "import matplotlib.pyplot as plt\n",
    "from sklearn.preprocessing import PolynomialFeatures, StandardScaler\n",
    "from sklearn.linear_model import LinearRegression\n",
    "from sklearn.model_selection import GridSearchCV\n",
    "from sklearn.pipeline import make_pipeline\n",
    "\n",
    "def make_poly_features(x,degree):\n",
    "\n",
    "    X = np.zeros(shape = (x.size, degree+1))\n",
    "    X[:,0] = 1\n",
    "    for i in range(degree):\n",
    "        X[:,i+1] = np.power(x,i+1)\n",
    "\n",
    "    betas = np.random.normal(0, 2, size = X.shape[1])\n",
    "\n",
    "    y = X@betas + np.random.normal(0, 4, size = x.size)\n",
    "\n",
    "    return y, betas\n",
    "\n",
    "\n",
    "degree = np.random.randint(low = 2, high = 20)\n",
    "x = np.random.normal(size = 100)\n",
    "y, coef = make_poly_features(x,degree)\n",
    "\n",
    "plt.scatter(x,y)\n",
    "\n",
    "model = make_pipeline(StandardScaler(), PolynomialFeatures(), LinearRegression())\n",
    "\n",
    "parms = {'polynomialfeatures__degree': np.arange(2, 6)}\n",
    "\n",
    "gscv = GridSearchCV(model, parms, cv = 10, scoring='neg_mean_squared_error')\n",
    "gscv.fit(x.reshape(-1,1),y)\n",
    "\n",
    "space = np.linspace(-3,3,101).reshape(-1,1)\n",
    "\n",
    "est_deg= gscv.best_params_['polynomialfeatures__degree']\n",
    "\n",
    "plt.plot(space, gscv.predict(space), color = 'red')\n",
    "plt.title(f'True Degree: {degree}  Estimated Degree:{est_deg}')\n"
   ]
  },
  {
   "cell_type": "code",
   "execution_count": 7,
   "metadata": {},
   "outputs": [],
   "source": [
    "from sklearn.preprocessing import PolynomialFeatures\n",
    "poly_reg = PolynomialFeatures(degree=4)\n",
    "X_poly = poly_reg.fit_transform(X_train)\n",
    "poly_reg_model = LinearRegression().fit(X_poly, y_train)"
   ]
  },
  {
   "cell_type": "code",
   "execution_count": 8,
   "metadata": {},
   "outputs": [],
   "source": [
    "y_pred = poly_reg_model.predict(poly_reg.fit_transform(X_test))"
   ]
  },
  {
   "cell_type": "code",
   "execution_count": 9,
   "metadata": {},
   "outputs": [
    {
     "data": {
      "text/plain": [
       "(4550, 715)"
      ]
     },
     "execution_count": 9,
     "metadata": {},
     "output_type": "execute_result"
    }
   ],
   "source": [
    "poly_reg.fit_transform(X_test).shape"
   ]
  },
  {
   "cell_type": "code",
   "execution_count": 10,
   "metadata": {},
   "outputs": [
    {
     "data": {
      "text/plain": [
       "(4550, 9)"
      ]
     },
     "execution_count": 10,
     "metadata": {},
     "output_type": "execute_result"
    }
   ],
   "source": [
    "X_test.shape"
   ]
  },
  {
   "cell_type": "code",
   "execution_count": 11,
   "metadata": {},
   "outputs": [
    {
     "data": {
      "text/html": [
       "<div>\n",
       "<style scoped>\n",
       "    .dataframe tbody tr th:only-of-type {\n",
       "        vertical-align: middle;\n",
       "    }\n",
       "\n",
       "    .dataframe tbody tr th {\n",
       "        vertical-align: top;\n",
       "    }\n",
       "\n",
       "    .dataframe thead th {\n",
       "        text-align: right;\n",
       "    }\n",
       "</style>\n",
       "<table border=\"1\" class=\"dataframe\">\n",
       "  <thead>\n",
       "    <tr style=\"text-align: right;\">\n",
       "      <th></th>\n",
       "      <th>Actual</th>\n",
       "      <th>Predicted</th>\n",
       "    </tr>\n",
       "  </thead>\n",
       "  <tbody>\n",
       "    <tr>\n",
       "      <th>21022</th>\n",
       "      <td>0.02</td>\n",
       "      <td>0.265781</td>\n",
       "    </tr>\n",
       "    <tr>\n",
       "      <th>4057</th>\n",
       "      <td>1.00</td>\n",
       "      <td>0.922609</td>\n",
       "    </tr>\n",
       "    <tr>\n",
       "      <th>13452</th>\n",
       "      <td>0.27</td>\n",
       "      <td>0.376016</td>\n",
       "    </tr>\n",
       "    <tr>\n",
       "      <th>477</th>\n",
       "      <td>0.50</td>\n",
       "      <td>0.489065</td>\n",
       "    </tr>\n",
       "    <tr>\n",
       "      <th>3515</th>\n",
       "      <td>0.74</td>\n",
       "      <td>0.692299</td>\n",
       "    </tr>\n",
       "    <tr>\n",
       "      <th>9660</th>\n",
       "      <td>0.36</td>\n",
       "      <td>0.391955</td>\n",
       "    </tr>\n",
       "    <tr>\n",
       "      <th>19120</th>\n",
       "      <td>0.40</td>\n",
       "      <td>0.439305</td>\n",
       "    </tr>\n",
       "    <tr>\n",
       "      <th>8424</th>\n",
       "      <td>0.62</td>\n",
       "      <td>0.624148</td>\n",
       "    </tr>\n",
       "    <tr>\n",
       "      <th>7174</th>\n",
       "      <td>0.23</td>\n",
       "      <td>0.208328</td>\n",
       "    </tr>\n",
       "    <tr>\n",
       "      <th>20902</th>\n",
       "      <td>0.53</td>\n",
       "      <td>0.473907</td>\n",
       "    </tr>\n",
       "  </tbody>\n",
       "</table>\n",
       "</div>"
      ],
      "text/plain": [
       "       Actual  Predicted\n",
       "21022    0.02   0.265781\n",
       "4057     1.00   0.922609\n",
       "13452    0.27   0.376016\n",
       "477      0.50   0.489065\n",
       "3515     0.74   0.692299\n",
       "9660     0.36   0.391955\n",
       "19120    0.40   0.439305\n",
       "8424     0.62   0.624148\n",
       "7174     0.23   0.208328\n",
       "20902    0.53   0.473907"
      ]
     },
     "execution_count": 11,
     "metadata": {},
     "output_type": "execute_result"
    }
   ],
   "source": [
    "df=pd.DataFrame({'Actual':y_test, 'Predicted':y_pred})\n",
    "df[2000:2010]"
   ]
  },
  {
   "cell_type": "code",
   "execution_count": 12,
   "metadata": {},
   "outputs": [
    {
     "name": "stdout",
     "output_type": "stream",
     "text": [
      "Mean Absolute Error: 0.05896031924812476\n",
      "Mean Squared Error: 0.006491714969181441\n",
      "Root Mean Squared Error: 0.08057117951961136\n"
     ]
    }
   ],
   "source": [
    "from sklearn import metrics\n",
    "print('Mean Absolute Error:', metrics.mean_absolute_error(y_test, y_pred))\n",
    "print('Mean Squared Error:', metrics.mean_squared_error(y_test, y_pred))\n",
    "print('Root Mean Squared Error:', np.sqrt(metrics.mean_squared_error(y_test, y_pred)))"
   ]
  },
  {
   "cell_type": "code",
   "execution_count": 13,
   "metadata": {},
   "outputs": [
    {
     "data": {
      "text/plain": [
       "SVR()"
      ]
     },
     "execution_count": 13,
     "metadata": {},
     "output_type": "execute_result"
    }
   ],
   "source": [
    "from sklearn.svm import SVR\n",
    "regressor = SVR(kernel = 'rbf')\n",
    "regressor.fit(X_train, y_train)"
   ]
  },
  {
   "cell_type": "code",
   "execution_count": 14,
   "metadata": {},
   "outputs": [],
   "source": [
    "y_pred_svr = regressor.predict(X_test)"
   ]
  },
  {
   "cell_type": "code",
   "execution_count": 15,
   "metadata": {},
   "outputs": [
    {
     "data": {
      "text/html": [
       "<div>\n",
       "<style scoped>\n",
       "    .dataframe tbody tr th:only-of-type {\n",
       "        vertical-align: middle;\n",
       "    }\n",
       "\n",
       "    .dataframe tbody tr th {\n",
       "        vertical-align: top;\n",
       "    }\n",
       "\n",
       "    .dataframe thead th {\n",
       "        text-align: right;\n",
       "    }\n",
       "</style>\n",
       "<table border=\"1\" class=\"dataframe\">\n",
       "  <thead>\n",
       "    <tr style=\"text-align: right;\">\n",
       "      <th></th>\n",
       "      <th>Actual</th>\n",
       "      <th>Predicted</th>\n",
       "    </tr>\n",
       "  </thead>\n",
       "  <tbody>\n",
       "    <tr>\n",
       "      <th>13575</th>\n",
       "      <td>0.22</td>\n",
       "      <td>0.221091</td>\n",
       "    </tr>\n",
       "    <tr>\n",
       "      <th>18458</th>\n",
       "      <td>0.51</td>\n",
       "      <td>0.547336</td>\n",
       "    </tr>\n",
       "    <tr>\n",
       "      <th>15368</th>\n",
       "      <td>0.38</td>\n",
       "      <td>0.391930</td>\n",
       "    </tr>\n",
       "    <tr>\n",
       "      <th>18515</th>\n",
       "      <td>0.22</td>\n",
       "      <td>0.215387</td>\n",
       "    </tr>\n",
       "    <tr>\n",
       "      <th>20336</th>\n",
       "      <td>0.51</td>\n",
       "      <td>0.510057</td>\n",
       "    </tr>\n",
       "    <tr>\n",
       "      <th>...</th>\n",
       "      <td>...</td>\n",
       "      <td>...</td>\n",
       "    </tr>\n",
       "    <tr>\n",
       "      <th>14795</th>\n",
       "      <td>0.31</td>\n",
       "      <td>0.330258</td>\n",
       "    </tr>\n",
       "    <tr>\n",
       "      <th>21931</th>\n",
       "      <td>0.37</td>\n",
       "      <td>0.461038</td>\n",
       "    </tr>\n",
       "    <tr>\n",
       "      <th>20786</th>\n",
       "      <td>0.65</td>\n",
       "      <td>0.588958</td>\n",
       "    </tr>\n",
       "    <tr>\n",
       "      <th>9173</th>\n",
       "      <td>0.29</td>\n",
       "      <td>0.201264</td>\n",
       "    </tr>\n",
       "    <tr>\n",
       "      <th>17882</th>\n",
       "      <td>0.54</td>\n",
       "      <td>0.582765</td>\n",
       "    </tr>\n",
       "  </tbody>\n",
       "</table>\n",
       "<p>4550 rows × 2 columns</p>\n",
       "</div>"
      ],
      "text/plain": [
       "       Actual  Predicted\n",
       "13575    0.22   0.221091\n",
       "18458    0.51   0.547336\n",
       "15368    0.38   0.391930\n",
       "18515    0.22   0.215387\n",
       "20336    0.51   0.510057\n",
       "...       ...        ...\n",
       "14795    0.31   0.330258\n",
       "21931    0.37   0.461038\n",
       "20786    0.65   0.588958\n",
       "9173     0.29   0.201264\n",
       "17882    0.54   0.582765\n",
       "\n",
       "[4550 rows x 2 columns]"
      ]
     },
     "execution_count": 15,
     "metadata": {},
     "output_type": "execute_result"
    }
   ],
   "source": [
    "df=pd.DataFrame({'Actual':y_test, 'Predicted':y_pred})\n",
    "df"
   ]
  },
  {
   "cell_type": "code",
   "execution_count": 16,
   "metadata": {},
   "outputs": [
    {
     "name": "stdout",
     "output_type": "stream",
     "text": [
      "Mean Absolute Error: 0.06020128110997478\n",
      "Mean Squared Error: 0.007182429337901176\n",
      "Root Mean Squared Error: 0.0847492143792565\n"
     ]
    }
   ],
   "source": [
    "from sklearn import metrics\n",
    "print('Mean Absolute Error:', metrics.mean_absolute_error(y_test, y_pred_svr))\n",
    "print('Mean Squared Error:', metrics.mean_squared_error(y_test, y_pred_svr))\n",
    "print('Root Mean Squared Error:', np.sqrt(metrics.mean_squared_error(y_test, y_pred_svr)))"
   ]
  },
  {
   "cell_type": "code",
   "execution_count": 17,
   "metadata": {},
   "outputs": [
    {
     "data": {
      "text/plain": [
       "['models/svrmodel']"
      ]
     },
     "execution_count": 17,
     "metadata": {},
     "output_type": "execute_result"
    }
   ],
   "source": [
    "import joblib\n",
    "joblib.dump(poly_reg_model, 'models/thepolymodel')\n",
    "joblib.dump(poly_reg, 'models/features_model')\n",
    "#svr\n",
    "joblib.dump(regressor,'models/svrmodel')\n"
   ]
  }
 ],
 "metadata": {
  "kernelspec": {
   "display_name": "Python 3.9.7 ('base')",
   "language": "python",
   "name": "python3"
  },
  "language_info": {
   "codemirror_mode": {
    "name": "ipython",
    "version": 3
   },
   "file_extension": ".py",
   "mimetype": "text/x-python",
   "name": "python",
   "nbconvert_exporter": "python",
   "pygments_lexer": "ipython3",
   "version": "3.9.7"
  },
  "vscode": {
   "interpreter": {
    "hash": "d63144fc2d377db556c3d4fecc2a1d98bfd915b30b804511c966a6e33135f2de"
   }
  }
 },
 "nbformat": 4,
 "nbformat_minor": 2
}
